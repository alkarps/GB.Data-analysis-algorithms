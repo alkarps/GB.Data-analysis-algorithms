{
 "cells": [
  {
   "cell_type": "markdown",
   "metadata": {
    "id": "kaGU7KeR6rzi"
   },
   "source": [
    "### Урок 2. Масштабирование признаков. Регуляризация. Стохастический градиентный спуск"
   ]
  },
  {
   "cell_type": "code",
   "execution_count": 1,
   "metadata": {
    "id": "_u5bV-OlT34p"
   },
   "outputs": [],
   "source": [
    "import numpy as np\n",
    "import matplotlib.pyplot as plt"
   ]
  },
  {
   "cell_type": "code",
   "execution_count": 2,
   "metadata": {
    "id": "_n6il-AZaLuA"
   },
   "outputs": [],
   "source": [
    "X = np.array([[1, 1, 1, 1, 1, 1, 1, 1, 1, 1],\n",
    "              [1, 1, 2, 5, 3, 0, 5, 10, 1, 2],\n",
    "              [500, 700, 750, 600, 1450, 800, 1500, 2000, 450, 1000],\n",
    "              [1, 1, 2, 1, 2, 1, 3, 3, 1, 2]])"
   ]
  },
  {
   "cell_type": "code",
   "execution_count": 3,
   "metadata": {
    "id": "x8yoci01ni-t"
   },
   "outputs": [],
   "source": [
    "y = [45, 55, 50, 55, 60, 35, 75, 80, 50, 60]"
   ]
  },
  {
   "cell_type": "markdown",
   "metadata": {
    "id": "shECgzyW6rz5"
   },
   "source": [
    "Нормализация [0, 1]"
   ]
  },
  {
   "cell_type": "code",
   "execution_count": 4,
   "metadata": {
    "colab": {
     "base_uri": "https://localhost:8080/",
     "height": 34
    },
    "id": "Ei5qeZO_aT6m",
    "outputId": "087819d3-202a-46c9-f87d-49e17953099c"
   },
   "outputs": [
    {
     "data": {
      "text/plain": [
       "(0, 10)"
      ]
     },
     "execution_count": 4,
     "metadata": {},
     "output_type": "execute_result"
    }
   ],
   "source": [
    "X[1].min(), X[1].max()"
   ]
  },
  {
   "cell_type": "code",
   "execution_count": 5,
   "metadata": {
    "colab": {
     "base_uri": "https://localhost:8080/",
     "height": 34
    },
    "id": "L7wsW1Q7b4Ts",
    "outputId": "911044d6-32c1-475a-80cd-cbaf26d5ba32"
   },
   "outputs": [
    {
     "data": {
      "text/plain": [
       "(450, 2000)"
      ]
     },
     "execution_count": 5,
     "metadata": {},
     "output_type": "execute_result"
    }
   ],
   "source": [
    "X[2].min(), X[2].max()"
   ]
  },
  {
   "cell_type": "code",
   "execution_count": 6,
   "metadata": {
    "colab": {
     "base_uri": "https://localhost:8080/",
     "height": 121
    },
    "id": "E55S9Bzob9Xa",
    "outputId": "4abf56a2-d484-4c24-8520-8ed1b58ccca8"
   },
   "outputs": [
    {
     "data": {
      "text/plain": [
       "array([[1.00e+00, 1.00e+00, 1.00e+00, 1.00e+00, 1.00e+00, 1.00e+00,\n",
       "        1.00e+00, 1.00e+00, 1.00e+00, 1.00e+00],\n",
       "       [1.00e+00, 1.00e+00, 2.00e+00, 5.00e+00, 3.00e+00, 0.00e+00,\n",
       "        5.00e+00, 1.00e+01, 1.00e+00, 2.00e+00],\n",
       "       [5.00e+02, 7.00e+02, 7.50e+02, 6.00e+02, 1.45e+03, 8.00e+02,\n",
       "        1.50e+03, 2.00e+03, 4.50e+02, 1.00e+03],\n",
       "       [1.00e+00, 1.00e+00, 2.00e+00, 1.00e+00, 2.00e+00, 1.00e+00,\n",
       "        3.00e+00, 3.00e+00, 1.00e+00, 2.00e+00]])"
      ]
     },
     "execution_count": 6,
     "metadata": {},
     "output_type": "execute_result"
    }
   ],
   "source": [
    "X_norm = X.copy()\n",
    "X_norm = X_norm.astype(np.float64)\n",
    "X_norm"
   ]
  },
  {
   "cell_type": "code",
   "execution_count": 7,
   "metadata": {
    "colab": {
     "base_uri": "https://localhost:8080/",
     "height": 121
    },
    "id": "7x-6IuPOcIo0",
    "outputId": "1668fec7-37ae-4671-ad9f-f093c30a6c72"
   },
   "outputs": [
    {
     "data": {
      "text/plain": [
       "array([[1.00e+00, 1.00e+00, 1.00e+00, 1.00e+00, 1.00e+00, 1.00e+00,\n",
       "        1.00e+00, 1.00e+00, 1.00e+00, 1.00e+00],\n",
       "       [1.00e-01, 1.00e-01, 2.00e-01, 5.00e-01, 3.00e-01, 0.00e+00,\n",
       "        5.00e-01, 1.00e+00, 1.00e-01, 2.00e-01],\n",
       "       [5.00e+02, 7.00e+02, 7.50e+02, 6.00e+02, 1.45e+03, 8.00e+02,\n",
       "        1.50e+03, 2.00e+03, 4.50e+02, 1.00e+03],\n",
       "       [1.00e+00, 1.00e+00, 2.00e+00, 1.00e+00, 2.00e+00, 1.00e+00,\n",
       "        3.00e+00, 3.00e+00, 1.00e+00, 2.00e+00]])"
      ]
     },
     "execution_count": 7,
     "metadata": {},
     "output_type": "execute_result"
    }
   ],
   "source": [
    "X_norm[1] = (X[1] - X[1].min()) / (X[1].max() - X[1].min())\n",
    "X_norm"
   ]
  },
  {
   "cell_type": "code",
   "execution_count": 8,
   "metadata": {
    "colab": {
     "base_uri": "https://localhost:8080/",
     "height": 121
    },
    "id": "izkMRdXFcjyK",
    "outputId": "982b8c8d-629d-4c4a-a3d5-67854cee4a4a"
   },
   "outputs": [
    {
     "data": {
      "text/plain": [
       "array([[1.        , 1.        , 1.        , 1.        , 1.        ,\n",
       "        1.        , 1.        , 1.        , 1.        , 1.        ],\n",
       "       [0.1       , 0.1       , 0.2       , 0.5       , 0.3       ,\n",
       "        0.        , 0.5       , 1.        , 0.1       , 0.2       ],\n",
       "       [0.03225806, 0.16129032, 0.19354839, 0.09677419, 0.64516129,\n",
       "        0.22580645, 0.67741935, 1.        , 0.        , 0.35483871],\n",
       "       [1.        , 1.        , 2.        , 1.        , 2.        ,\n",
       "        1.        , 3.        , 3.        , 1.        , 2.        ]])"
      ]
     },
     "execution_count": 8,
     "metadata": {},
     "output_type": "execute_result"
    }
   ],
   "source": [
    "X_norm[2] = (X[2] - X[2].min()) / (X[2].max() - X[2].min())\n",
    "X_norm"
   ]
  },
  {
   "cell_type": "markdown",
   "metadata": {
    "id": "Zy63bpFfeqzu"
   },
   "source": [
    "Стандартизация"
   ]
  },
  {
   "cell_type": "code",
   "execution_count": 9,
   "metadata": {
    "colab": {
     "base_uri": "https://localhost:8080/",
     "height": 317
    },
    "id": "8i9pB-3-fMD4",
    "outputId": "3cbe76f6-d000-4fcd-fe86-ffe853403356"
   },
   "outputs": [
    {
     "data": {
      "image/png": "[encoded data removed]",
      "text/plain": [
       "<Figure size 640x480 with 1 Axes>"
      ]
     },
     "metadata": {},
     "output_type": "display_data"
    }
   ],
   "source": [
    "plt.hist(X[1])\n",
    "plt.show()"
   ]
  },
  {
   "cell_type": "code",
   "execution_count": 10,
   "metadata": {
    "colab": {
     "base_uri": "https://localhost:8080/",
     "height": 335
    },
    "id": "-bnAYQqVfRX-",
    "outputId": "d59b0013-49bc-40fa-cb29-e71403e6e9e0"
   },
   "outputs": [
    {
     "data": {
      "image/png": "[encoded data removed]",
      "text/plain": [
       "<Figure size 640x480 with 1 Axes>"
      ]
     },
     "metadata": {},
     "output_type": "display_data"
    }
   ],
   "source": [
    "plt.hist(X[2])\n",
    "plt.show()"
   ]
  },
  {
   "cell_type": "code",
   "execution_count": 11,
   "metadata": {
    "id": "M57-Pzl_f_rF",
    "outputId": "b8f0b94e-715a-448e-e6d1-270ad75a3350"
   },
   "outputs": [
    {
     "name": "stdout",
     "output_type": "stream",
     "text": [
      "3.0 2.8284271247461903\n"
     ]
    }
   ],
   "source": [
    "X_st = X.copy().astype(np.float64)\n",
    "X1_mean = X[1].mean()\n",
    "X1_std = X[1].std()\n",
    "print(X1_mean, X1_std)"
   ]
  },
  {
   "cell_type": "code",
   "execution_count": 12,
   "metadata": {
    "colab": {
     "base_uri": "https://localhost:8080/",
     "height": 294
    },
    "id": "btJMY0YbgKLb",
    "outputId": "40010205-def9-4582-9a5d-e513e85b7a4e"
   },
   "outputs": [
    {
     "data": {
      "text/plain": [
       "array([[ 1.00000000e+00,  1.00000000e+00,  1.00000000e+00,\n",
       "         1.00000000e+00,  1.00000000e+00,  1.00000000e+00,\n",
       "         1.00000000e+00,  1.00000000e+00,  1.00000000e+00,\n",
       "         1.00000000e+00],\n",
       "       [-7.07106781e-01, -7.07106781e-01, -3.53553391e-01,\n",
       "         7.07106781e-01,  0.00000000e+00, -1.06066017e+00,\n",
       "         7.07106781e-01,  2.47487373e+00, -7.07106781e-01,\n",
       "        -3.53553391e-01],\n",
       "       [ 5.00000000e+02,  7.00000000e+02,  7.50000000e+02,\n",
       "         6.00000000e+02,  1.45000000e+03,  8.00000000e+02,\n",
       "         1.50000000e+03,  2.00000000e+03,  4.50000000e+02,\n",
       "         1.00000000e+03],\n",
       "       [ 1.00000000e+00,  1.00000000e+00,  2.00000000e+00,\n",
       "         1.00000000e+00,  2.00000000e+00,  1.00000000e+00,\n",
       "         3.00000000e+00,  3.00000000e+00,  1.00000000e+00,\n",
       "         2.00000000e+00]])"
      ]
     },
     "execution_count": 12,
     "metadata": {},
     "output_type": "execute_result"
    }
   ],
   "source": [
    "X_st[1] = (X[1] - X1_mean) / X1_std\n",
    "X_st"
   ]
  },
  {
   "cell_type": "code",
   "execution_count": 13,
   "metadata": {
    "colab": {
     "base_uri": "https://localhost:8080/",
     "height": 352
    },
    "id": "-Y1tzWGCgYjA",
    "outputId": "89dc21fe-180f-4e68-f30f-1cf276c4f154"
   },
   "outputs": [
    {
     "data": {
      "image/png": "[encoded data removed]",
      "text/plain": [
       "<Figure size 640x480 with 1 Axes>"
      ]
     },
     "metadata": {},
     "output_type": "display_data"
    }
   ],
   "source": [
    "plt.hist(X_st[1])\n",
    "plt.show()"
   ]
  },
  {
   "cell_type": "code",
   "execution_count": 14,
   "metadata": {
    "id": "ZlJUBOyzgkJV"
   },
   "outputs": [],
   "source": [
    "def calc_std_fit(x):\n",
    "    res = (x - x.mean()) / x.std()\n",
    "    return res"
   ]
  },
  {
   "cell_type": "code",
   "execution_count": 15,
   "metadata": {
    "id": "6PlDlFY0hGZA"
   },
   "outputs": [],
   "source": [
    "X_st[2] = calc_std_fit(X[2])"
   ]
  },
  {
   "cell_type": "code",
   "execution_count": 16,
   "metadata": {
    "colab": {
     "base_uri": "https://localhost:8080/",
     "height": 155
    },
    "id": "LOKhmhJjt9TR",
    "outputId": "2b131d78-9066-462b-dfa9-778758f3d363"
   },
   "outputs": [
    {
     "data": {
      "text/plain": [
       "array([[ 1.        ,  1.        ,  1.        ,  1.        ,  1.        ,\n",
       "         1.        ,  1.        ,  1.        ,  1.        ,  1.        ],\n",
       "       [-0.70710678, -0.70710678, -0.35355339,  0.70710678,  0.        ,\n",
       "        -1.06066017,  0.70710678,  2.47487373, -0.70710678, -0.35355339],\n",
       "       [-0.97958969, -0.56713087, -0.46401617, -0.77336028,  0.97958969,\n",
       "        -0.36090146,  1.08270439,  2.11385144, -1.08270439,  0.05155735],\n",
       "       [-0.89625816, -0.89625816,  0.38411064, -0.89625816,  0.38411064,\n",
       "        -0.89625816,  1.66447944,  1.66447944, -0.89625816,  0.38411064]])"
      ]
     },
     "execution_count": 16,
     "metadata": {},
     "output_type": "execute_result"
    }
   ],
   "source": [
    "X_st[3] = calc_std_fit(X[3])\n",
    "X_st"
   ]
  },
  {
   "cell_type": "markdown",
   "metadata": {
    "id": "UdGy9tjVhZol"
   },
   "source": [
    "SGD (Stochastic gradient descent)"
   ]
  },
  {
   "cell_type": "code",
   "execution_count": 17,
   "metadata": {
    "id": "VDpN7UxYnrcS"
   },
   "outputs": [],
   "source": [
    "def calc_mse(y, y_pred):\n",
    "    err = np.mean((y - y_pred)**2)\n",
    "    return err"
   ]
  },
  {
   "cell_type": "code",
   "execution_count": 18,
   "metadata": {
    "id": "SgEyis2zlJeb"
   },
   "outputs": [],
   "source": [
    "def eval_model(X, y, iterations, alpha=1e-4):\n",
    "    W = np.random.randn(X.shape[0])\n",
    "    n = X.shape[1]\n",
    "    for i in range(1, iterations+1):\n",
    "        y_pred = np.dot(W, X)\n",
    "        err = calc_mse(y, y_pred)\n",
    "        W -= (alpha * (1/n * 2 * np.dot((y_pred - y), X.T)))\n",
    "        if i % (iterations / 10) == 0:\n",
    "            print(i, W, err)\n",
    "    return W"
   ]
  },
  {
   "cell_type": "code",
   "execution_count": 19,
   "metadata": {
    "colab": {
     "base_uri": "https://localhost:8080/",
     "height": 207
    },
    "id": "4nsYMAGjmFlB",
    "outputId": "8959a8af-3d27-42a6-afae-5db46c794fe1"
   },
   "outputs": [
    {
     "name": "stdout",
     "output_type": "stream",
     "text": [
      "100 [49.0539119   4.81443385  3.66668223  3.82401468] 85.43361208747189\n",
      "200 [55.5125031   5.28187651  2.88126556  4.23291542] 27.70334186372836\n",
      "300 [56.3690386   5.56941447  2.25189823  4.60288301] 26.084795881578646\n",
      "400 [56.48263196  5.75949849  1.75268836  4.93234242] 25.670371316721333\n",
      "500 [56.49769666  5.8900337   1.35341789  5.21632491] 25.411148828428882\n",
      "600 [56.49969453  5.98296911  1.03217791  5.45632624] 25.240561224562576\n",
      "700 [56.49995949  6.0512925   0.77264909  5.65666237] 25.127656026903466\n",
      "800 [56.49999463  6.10288496  0.56237853  5.82256053] 25.052766829073388\n",
      "900 [56.49999929  6.14267756  0.3916841   5.95922486] 25.003044581225467\n",
      "1000 [56.49999991  6.17386592  0.2529321   6.071418  ] 24.970016912168614\n"
     ]
    },
    {
     "data": {
      "text/plain": [
       "array([56.49999991,  6.17386592,  0.2529321 ,  6.071418  ])"
      ]
     },
     "execution_count": 19,
     "metadata": {},
     "output_type": "execute_result"
    }
   ],
   "source": [
    "eval_model(X_st, y, iterations=1000, alpha=1e-2)"
   ]
  },
  {
   "cell_type": "code",
   "execution_count": 20,
   "metadata": {
    "id": "oV_LJy4l6r0W"
   },
   "outputs": [],
   "source": [
    "def eval_sgd_model(X, y, iterations, qty_in_batch, alpha=1e-4):\n",
    "    W = np.random.randn(X.shape[0])\n",
    "    n = X.shape[1]\n",
    "    n_batch = n // qty_in_batch\n",
    "    \n",
    "    if n % qty_in_batch != 0:\n",
    "        n_batch += 1\n",
    "        \n",
    "    for i in range(1, iterations+1):\n",
    "        for b in range(n_batch):\n",
    "            start_ = qty_in_batch*b\n",
    "            end_ = qty_in_batch*(b+1)\n",
    "#             print(b, n_batch, start_, end_)\n",
    "            X_tmp = X[:, start_ : end_]\n",
    "            y_tmp = y[start_ : end_]\n",
    "\n",
    "            y_pred_tmp = np.dot(W, X_tmp)\n",
    "            err = calc_mse(y_tmp, y_pred_tmp)\n",
    "\n",
    "            W -= (alpha * (1/n * 2 * np.dot((y_pred_tmp - y_tmp), X_tmp.T)))\n",
    "        \n",
    "        if i % (iterations / 10) == 0:\n",
    "            print(i, W, err)\n",
    "    return W"
   ]
  },
  {
   "cell_type": "code",
   "execution_count": 21,
   "metadata": {
    "colab": {
     "base_uri": "https://localhost:8080/",
     "height": 207
    },
    "id": "2aXap4Vsm3GV",
    "outputId": "8b666b76-9d01-4b6d-813c-f1d3f5901f5f"
   },
   "outputs": [
    {
     "name": "stdout",
     "output_type": "stream",
     "text": [
      "500 [56.50800912  6.02298072  0.68881118  5.7829244 ] 12.597222687794059\n",
      "1000 [5.65105160e+01 6.23216468e+00 6.87489155e-03 6.28126514e+00] 11.776299001008269\n",
      "1500 [56.51058194  6.28495541 -0.23134349  6.47472925] 11.464797594661814\n",
      "2000 [56.51060648  6.3027958  -0.31667629  6.5450523 ] 11.352281237085915\n",
      "2500 [56.51061536  6.30915474 -0.34735513  6.5703874 ] 11.311865010346612\n",
      "3000 [56.51061855  6.31143928 -0.35839053  6.5795033 ] 11.297339527004993\n",
      "3500 [56.5106197   6.31226096 -0.36236033  6.58278274] 11.292116243740152\n",
      "4000 [56.51062012  6.31255654 -0.36378842  6.58396248] 11.29023751536442\n",
      "4500 [56.51062027  6.31266287 -0.36430215  6.58438688] 11.289561702976096\n",
      "5000 [56.51062032  6.31270112 -0.36448696  6.58453955] 11.289318592454007\n"
     ]
    },
    {
     "data": {
      "text/plain": [
       "array([56.51062032,  6.31270112, -0.36448696,  6.58453955])"
      ]
     },
     "execution_count": 21,
     "metadata": {},
     "output_type": "execute_result"
    }
   ],
   "source": [
    "eval_sgd_model(X_st, y, iterations=5000, qty_in_batch=4, alpha=1e-2)"
   ]
  },
  {
   "cell_type": "markdown",
   "metadata": {
    "id": "DYTxT_6OrZpe"
   },
   "source": [
    "L1 регуляризация"
   ]
  },
  {
   "cell_type": "markdown",
   "metadata": {
    "id": "Ojkn7xKrsyiw"
   },
   "source": [
    "f(x, W) + (lambda_/2) * np.sum(np.abs(W))"
   ]
  },
  {
   "cell_type": "markdown",
   "metadata": {
    "id": "j38vId7Hvtg0"
   },
   "source": [
    "L2 регуляризация"
   ]
  },
  {
   "cell_type": "markdown",
   "metadata": {
    "id": "KO5BtZ7svv4k"
   },
   "source": [
    "f(x, W) + (lambda_/2) * np.sum(W**2)"
   ]
  },
  {
   "cell_type": "code",
   "execution_count": 22,
   "metadata": {
    "id": "7AVoe1Mswjni"
   },
   "outputs": [],
   "source": [
    "def eval_model_reg2(X, y, iterations, alpha=1e-4, lambda_=1e-8):\n",
    "    np.random.seed(42)\n",
    "    W = np.random.randn(X.shape[0])\n",
    "    n = X.shape[1]\n",
    "    for i in range(1, iterations+1):\n",
    "        y_pred = np.dot(W, X)\n",
    "        err = calc_mse(y, y_pred)\n",
    "        W -= alpha * (1/n * 2 * np.dot((y_pred - y), X.T) + lambda_ * W) \n",
    "#         if i % (iterations / 10) == 0:\n",
    "#             print(i, W, err)\n",
    "    return W"
   ]
  },
  {
   "cell_type": "code",
   "execution_count": 23,
   "metadata": {
    "colab": {
     "base_uri": "https://localhost:8080/",
     "height": 207
    },
    "id": "vLJL6j8Lw6OA",
    "outputId": "dac9ef42-5966-4404-9346-aeb18cca83c6"
   },
   "outputs": [],
   "source": [
    "W = eval_model_reg2(X_st, y, iterations=5000, alpha=1e-2, lambda_=1e-4)"
   ]
  },
  {
   "cell_type": "code",
   "execution_count": 24,
   "metadata": {
    "colab": {
     "base_uri": "https://localhost:8080/",
     "height": 207
    },
    "id": "bBGdLA7I6r0f",
    "outputId": "8959a8af-3d27-42a6-afae-5db46c794fe1"
   },
   "outputs": [
    {
     "name": "stdout",
     "output_type": "stream",
     "text": [
      "500 [56.49767254  5.83477719  1.36781865  5.25424451] 25.413829625514786\n",
      "1000 [56.4999999   6.17124081  0.25269258  6.07416416] 24.969784391475397\n",
      "1500 [56.5         6.2575128  -0.13774522  6.39128671] 24.913059475565493\n",
      "2000 [56.5         6.28678323 -0.27772011  6.50655795] 24.905712417850083\n",
      "2500 [56.5         6.29722767 -0.32807425  6.54810646] 24.904760553791704\n",
      "3000 [56.5         6.30098239 -0.34619733  6.56306445] 24.904637232271696\n",
      "3500 [56.5         6.30233363 -0.3527205   6.5684486 ] 24.904621254991206\n",
      "4000 [56.5         6.30281999 -0.35506846  6.57038658] 24.904619185007867\n",
      "4500 [56.5         6.30299505 -0.35591359  6.57108415] 24.904618916825108\n",
      "5000 [56.5         6.30305806 -0.35621778  6.57133523] 24.90461888207993\n"
     ]
    },
    {
     "data": {
      "text/plain": [
       "array([56.5       ,  6.30305806, -0.35621778,  6.57133523])"
      ]
     },
     "execution_count": 24,
     "metadata": {},
     "output_type": "execute_result"
    }
   ],
   "source": [
    "eval_model(X_st, y, iterations=5000, alpha=1e-2)"
   ]
  },
  {
   "cell_type": "markdown",
   "metadata": {
    "id": "gKDejdRT6r0g"
   },
   "source": [
    "### Практическое задание"
   ]
  },
  {
   "cell_type": "markdown",
   "metadata": {
    "id": "S3bTX7yz6r0g"
   },
   "source": [
    "* Постройте график зависимости весов всех признаков от lambda в L2-регуляризации на основе данных из урока."
   ]
  },
  {
   "cell_type": "code",
   "execution_count": 25,
   "metadata": {},
   "outputs": [],
   "source": [
    "n=50\n",
    "lambdas = np.logspace(-5,2,n)\n",
    "coeffs = np.zeros((n, X_st.shape[0]))\n",
    "for i, lambda_ in enumerate(lambdas):\n",
    "    coeffs[i,:]=eval_model_reg2(X_st, y, iterations=5000, alpha=1e-2, lambda_=lambda_)"
   ]
  },
  {
   "cell_type": "code",
   "execution_count": 26,
   "metadata": {},
   "outputs": [
    {
     "data": {
      "text/plain": [
       "Text(0, 0.5, 'Вес признака')"
      ]
     },
     "execution_count": 26,
     "metadata": {},
     "output_type": "execute_result"
    },
    {
     "data": {
      "image/png": "[encoded data removed]",
      "text/plain": [
       "<Figure size 640x480 with 1 Axes>"
      ]
     },
     "metadata": {},
     "output_type": "display_data"
    }
   ],
   "source": [
    "for i in range(X_st.shape[0]):\n",
    "    plt.plot(lambdas, coeffs[:,i])\n",
    "plt.title(\"График зависимости весов всех признаков от lambda в L2-регуляризации\")\n",
    "plt.xlabel(\"Lambda\")\n",
    "plt.ylabel(\"Вес признака\")"
   ]
  },
  {
   "cell_type": "markdown",
   "metadata": {
    "id": "ZIbh5rKr6r0n"
   },
   "source": [
    "* Можно ли к одному и тому же признаку применить сразу и нормализацию, и стандартизацию?"
   ]
  },
  {
   "cell_type": "markdown",
   "metadata": {},
   "source": [
    "Это разные методы масштабирования признаков. Применять оба метода одновременно не имеет смысла."
   ]
  },
  {
   "cell_type": "markdown",
   "metadata": {
    "id": "uJQtO2UB6r0n"
   },
   "source": [
    "* Напишите функцию наподобие eval_model_reg2, но для применения L1-регуляризации."
   ]
  },
  {
   "cell_type": "code",
   "execution_count": 27,
   "metadata": {
    "id": "OX4r_PNv6r0o"
   },
   "outputs": [],
   "source": [
    "def eval_model_reg1(X, y, iterations, alpha=1e-4, lambda_=1e-8):\n",
    "    np.random.seed(42)\n",
    "    W = np.random.randn(X.shape[0])\n",
    "    n = X.shape[1]\n",
    "    for i in range(1, iterations+1):\n",
    "        y_pred = np.dot(W, X)\n",
    "        err = calc_mse(y, y_pred)\n",
    "        W -= alpha * (1/n * 2 * np.dot((y_pred - y), X.T) + lambda_ * np.sign(W)) \n",
    "#         if i % (iterations / 10) == 0:\n",
    "#             print(i, W, err)\n",
    "    return W"
   ]
  },
  {
   "cell_type": "code",
   "execution_count": 28,
   "metadata": {},
   "outputs": [
    {
     "data": {
      "text/plain": [
       "array([56.49717514,  6.30231751, -0.35424091,  6.56978425])"
      ]
     },
     "execution_count": 28,
     "metadata": {},
     "output_type": "execute_result"
    }
   ],
   "source": [
    "eval_model_reg2(X_st, y, iterations=5000, alpha=1e-2, lambda_=1e-4)"
   ]
  }
 ],
 "metadata": {
  "colab": {
   "collapsed_sections": [],
   "name": "Lesson_2_script.ipynb",
   "provenance": []
  },
  "kernelspec": {
   "display_name": "Python 3 (ipykernel)",
   "language": "python",
   "name": "python3"
  },
  "language_info": {
   "codemirror_mode": {
    "name": "ipython",
    "version": 3
   },
   "file_extension": ".py",
   "mimetype": "text/x-python",
   "name": "python",
   "nbconvert_exporter": "python",
   "pygments_lexer": "ipython3",
   "version": "3.9.13"
  }
 },
 "nbformat": 4,
 "nbformat_minor": 1
}
